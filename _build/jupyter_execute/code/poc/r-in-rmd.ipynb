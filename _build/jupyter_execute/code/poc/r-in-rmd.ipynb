{
 "cells": [
  {
   "cell_type": "markdown",
   "id": "94c28723",
   "metadata": {},
   "source": [
    "# Executing R Code in Rmd"
   ]
  },
  {
   "cell_type": "code",
   "execution_count": 1,
   "id": "f8abaf19",
   "metadata": {
    "echo": true,
    "lines_to_next_cell": 2
   },
   "outputs": [
    {
     "name": "stdout",
     "output_type": "stream",
     "text": [
      "[1] \"Hallo I'm an RMarkdown block!\"\n"
     ]
    }
   ],
   "source": [
    "print(\"Hallo I'm an RMarkdown block!\")"
   ]
  },
  {
   "cell_type": "markdown",
   "id": "485fd319",
   "metadata": {},
   "source": [
    "should be able to run the chunk in VSCode (runs in terminal - creates an R interactive kernel)\n",
    "\n",
    "see LabNotes for more documentation on this (I think)"
   ]
  }
 ],
 "metadata": {
  "jupytext": {
   "text_representation": {
    "extension": ".Rmd",
    "format_name": "rmarkdown"
   }
  },
  "kernelspec": {
   "display_name": "R",
   "language": "R",
   "name": "ir"
  },
  "language_info": {
   "codemirror_mode": "r",
   "file_extension": ".r",
   "mimetype": "text/x-r-source",
   "name": "R",
   "pygments_lexer": "r",
   "version": "4.4.1"
  }
 },
 "nbformat": 4,
 "nbformat_minor": 5
}