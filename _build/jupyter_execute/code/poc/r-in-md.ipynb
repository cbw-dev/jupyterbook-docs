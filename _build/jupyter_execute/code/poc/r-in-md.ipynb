{
 "cells": [
  {
   "cell_type": "markdown",
   "id": "65a4acf5",
   "metadata": {},
   "source": [
    "# MyST md file that Executes R\n",
    "\n",
    "Some **intro Markdown**!"
   ]
  },
  {
   "cell_type": "code",
   "execution_count": 1,
   "id": "03d9a97e",
   "metadata": {
    "tags": [
     "mytag"
    ]
   },
   "outputs": [
    {
     "name": "stdout",
     "output_type": "stream",
     "text": [
      "[1] 42\n"
     ]
    }
   ],
   "source": [
    "x <- 42\n",
    "print(x)"
   ]
  },
  {
   "cell_type": "markdown",
   "id": "a4923897",
   "metadata": {},
   "source": [
    "## A section\n",
    "\n",
    "And some more Markdown..."
   ]
  }
 ],
 "metadata": {
  "jupytext": {
   "formats": "md:myst",
   "text_representation": {
    "extension": ".md",
    "format_name": "myst",
    "format_version": 0.13,
    "jupytext_version": "1.16.4"
   }
  },
  "kernelspec": {
   "display_name": "R",
   "language": "R",
   "name": "ir"
  },
  "language_info": {
   "codemirror_mode": "r",
   "file_extension": ".r",
   "mimetype": "text/x-r-source",
   "name": "R",
   "pygments_lexer": "r",
   "version": "4.4.1"
  },
  "source_map": [
   13,
   19,
   24
  ]
 },
 "nbformat": 4,
 "nbformat_minor": 5
}